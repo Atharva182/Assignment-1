{
 "cells": [
  {
   "cell_type": "code",
   "execution_count": 2,
   "id": "9ef4b228-2ed4-4269-8236-1e666ff86353",
   "metadata": {},
   "outputs": [],
   "source": [
    "# Q1) \n",
    "#string\n",
    "string_1 = (\"Hello World\")\n",
    "\n",
    "#list\n",
    "list_1 = [10,20,30,40]\n",
    "\n",
    "#float\n",
    "float_1 = 5.98\n",
    "\n",
    "#tuple\n",
    "tuple_1 = (10,20,30)"
   ]
  },
  {
   "cell_type": "code",
   "execution_count": 3,
   "id": "09e57542-bfcd-4f25-837f-a29ecaa01938",
   "metadata": {},
   "outputs": [
    {
     "data": {
      "text/plain": [
       "str"
      ]
     },
     "execution_count": 3,
     "metadata": {},
     "output_type": "execute_result"
    }
   ],
   "source": [
    "#Q2\n",
    "var1=' '\n",
    "type(var1)"
   ]
  },
  {
   "cell_type": "code",
   "execution_count": 7,
   "id": "16905c85-8864-4172-9a13-30103862c702",
   "metadata": {},
   "outputs": [
    {
     "data": {
      "text/plain": [
       "str"
      ]
     },
     "execution_count": 7,
     "metadata": {},
     "output_type": "execute_result"
    }
   ],
   "source": [
    "var2 = '[ DS , ML , Python]'\n",
    "type(var2)"
   ]
  },
  {
   "cell_type": "code",
   "execution_count": 9,
   "id": "e581592b-ba00-47f9-8a03-f45b8fe4b49e",
   "metadata": {},
   "outputs": [
    {
     "data": {
      "text/plain": [
       "list"
      ]
     },
     "execution_count": 9,
     "metadata": {},
     "output_type": "execute_result"
    }
   ],
   "source": [
    "var3 = [ 'DS' , 'ML' , 'Python' ]\n",
    "type(var3)"
   ]
  },
  {
   "cell_type": "code",
   "execution_count": 10,
   "id": "46872fe9-5b66-45d0-8175-a6aee58eafb1",
   "metadata": {},
   "outputs": [
    {
     "data": {
      "text/plain": [
       "float"
      ]
     },
     "execution_count": 10,
     "metadata": {},
     "output_type": "execute_result"
    }
   ],
   "source": [
    "var4 = 1.\n",
    "type(var4)"
   ]
  },
  {
   "cell_type": "code",
   "execution_count": 13,
   "id": "7b655eec-92e2-42c7-bcce-40ac14804e35",
   "metadata": {},
   "outputs": [
    {
     "data": {
      "text/plain": [
       "2.0"
      ]
     },
     "execution_count": 13,
     "metadata": {},
     "output_type": "execute_result"
    }
   ],
   "source": [
    "#Q3\n",
    "# / is used for division\n",
    "6/3"
   ]
  },
  {
   "cell_type": "code",
   "execution_count": 14,
   "id": "a55c4d95-60e9-4f73-95f5-d34df6a9bace",
   "metadata": {},
   "outputs": [
    {
     "data": {
      "text/plain": [
       "2"
      ]
     },
     "execution_count": 14,
     "metadata": {},
     "output_type": "execute_result"
    }
   ],
   "source": [
    "# % is used to get remainder value\n",
    "6%4"
   ]
  },
  {
   "cell_type": "code",
   "execution_count": 15,
   "id": "4d35500b-9f44-4c8e-8704-1a70eefbf980",
   "metadata": {},
   "outputs": [
    {
     "data": {
      "text/plain": [
       "3"
      ]
     },
     "execution_count": 15,
     "metadata": {},
     "output_type": "execute_result"
    }
   ],
   "source": [
    "# // is used to get quotient value\n",
    "7//2"
   ]
  },
  {
   "cell_type": "code",
   "execution_count": 16,
   "id": "8b92fbae-4e28-4886-af68-359047a44740",
   "metadata": {},
   "outputs": [
    {
     "data": {
      "text/plain": [
       "8"
      ]
     },
     "execution_count": 16,
     "metadata": {},
     "output_type": "execute_result"
    }
   ],
   "source": [
    "# ** is used as power operator\n",
    "2**3"
   ]
  },
  {
   "cell_type": "code",
   "execution_count": 20,
   "id": "8880b148-2a61-4549-b80c-28a9e1fc2002",
   "metadata": {},
   "outputs": [
    {
     "name": "stdout",
     "output_type": "stream",
     "text": [
      "10\n",
      "<class 'int'>\n",
      "a\n",
      "<class 'str'>\n",
      "20\n",
      "<class 'int'>\n",
      "9.8\n",
      "<class 'float'>\n",
      "pw\n",
      "<class 'str'>\n",
      "True\n",
      "<class 'bool'>\n",
      "5\n",
      "<class 'int'>\n",
      "80\n",
      "<class 'int'>\n",
      "45\n",
      "<class 'int'>\n",
      "90\n",
      "<class 'int'>\n"
     ]
    }
   ],
   "source": [
    "#Q4\n",
    "l = [10 , 'a' , 20 , 9.8 , 'pw' , True , 5 , 80 , 45 , 90]\n",
    "i = 1\n",
    "for i in l :\n",
    "    print(i)\n",
    "    print(type(i))"
   ]
  },
  {
   "cell_type": "code",
   "execution_count": 27,
   "id": "3b3dab4a-d1b8-494e-9ee3-346a9871beee",
   "metadata": {},
   "outputs": [
    {
     "name": "stdin",
     "output_type": "stream",
     "text": [
      "The first no is  16\n",
      "The secind no is  2\n"
     ]
    },
    {
     "name": "stdout",
     "output_type": "stream",
     "text": [
      "The no is divided 4 times\n"
     ]
    }
   ],
   "source": [
    "#Q5\n",
    "a = int(input(\"The first no is \"))\n",
    "b = int(input(\"The secind no is \"))\n",
    "        \n",
    "count = 0\n",
    "\n",
    "while a % b == 0 :\n",
    "    a = a / b\n",
    "    count += 1\n",
    "    \n",
    "if count > 0 :\n",
    "    print(f\"The no is divided {count} times\")\n",
    "else :\n",
    "    print(\"The no is not purely divisible\")"
   ]
  },
  {
   "cell_type": "code",
   "execution_count": 29,
   "id": "c29d070c-1a27-4ffb-8ede-41fd0a8ea5cd",
   "metadata": {},
   "outputs": [
    {
     "name": "stdout",
     "output_type": "stream",
     "text": [
      "1 is not divisible by 3\n",
      "2 is not divisible by 3\n",
      "3 is divisible by 3\n",
      "4 is not divisible by 3\n",
      "5 is not divisible by 3\n",
      "6 is divisible by 3\n",
      "7 is not divisible by 3\n",
      "8 is not divisible by 3\n",
      "9 is divisible by 3\n",
      "10 is not divisible by 3\n",
      "11 is not divisible by 3\n",
      "12 is divisible by 3\n",
      "13 is not divisible by 3\n",
      "14 is not divisible by 3\n",
      "15 is divisible by 3\n",
      "16 is not divisible by 3\n",
      "17 is not divisible by 3\n",
      "18 is divisible by 3\n",
      "19 is not divisible by 3\n",
      "20 is not divisible by 3\n",
      "21 is divisible by 3\n",
      "22 is not divisible by 3\n",
      "23 is not divisible by 3\n",
      "24 is divisible by 3\n",
      "25 is not divisible by 3\n"
     ]
    }
   ],
   "source": [
    "#Q6\n",
    "l=[1,2,3,4,5,6,7,8,9,10,11,12,13,14,15,16,17,18,19,20,21,22,23,24,25]\n",
    "i=1\n",
    "for i in l:\n",
    "    if i%3==0:\n",
    "        print(f\"{i} is divisible by 3\")\n",
    "    else:\n",
    "        print(f\"{i} is not divisible by 3\")"
   ]
  },
  {
   "cell_type": "code",
   "execution_count": 32,
   "id": "5db8e05c-85a6-4e60-8e43-ae2d659474b4",
   "metadata": {},
   "outputs": [
    {
     "name": "stdout",
     "output_type": "stream",
     "text": [
      "[1, 5, 'a']\n"
     ]
    }
   ],
   "source": [
    "#Q7\n",
    "# Mutable data types are those whose values can be modified after creation.\n",
    "#Example\n",
    "l = [1,5,'a']\n",
    "print(l)"
   ]
  },
  {
   "cell_type": "code",
   "execution_count": 33,
   "id": "a3b03c7c-ff81-4d6c-b259-618f5db43d22",
   "metadata": {},
   "outputs": [
    {
     "name": "stdout",
     "output_type": "stream",
     "text": [
      "[1, 10, 'a', 20]\n"
     ]
    }
   ],
   "source": [
    "l[1] = 10\n",
    "l.append(20)\n",
    "print(l)"
   ]
  },
  {
   "cell_type": "code",
   "execution_count": 34,
   "id": "aefa5e43-424d-4744-bd48-bdaed979a1b2",
   "metadata": {},
   "outputs": [
    {
     "name": "stdout",
     "output_type": "stream",
     "text": [
      "(1, 5, 'a')\n"
     ]
    }
   ],
   "source": [
    "# Immutable data types are those whose values cannot be changed after they are created.\n",
    "a = (1,5,'a')\n",
    "print(a)"
   ]
  },
  {
   "cell_type": "code",
   "execution_count": 36,
   "id": "0e28eb98-96be-48bc-9693-0ff1628de04d",
   "metadata": {},
   "outputs": [
    {
     "ename": "AttributeError",
     "evalue": "'tuple' object has no attribute 'append'",
     "output_type": "error",
     "traceback": [
      "\u001b[0;31m---------------------------------------------------------------------------\u001b[0m",
      "\u001b[0;31mAttributeError\u001b[0m                            Traceback (most recent call last)",
      "Cell \u001b[0;32mIn[36], line 1\u001b[0m\n\u001b[0;32m----> 1\u001b[0m \u001b[43ma\u001b[49m\u001b[38;5;241;43m.\u001b[39;49m\u001b[43mappend\u001b[49m(\u001b[38;5;241m20\u001b[39m)\n\u001b[1;32m      2\u001b[0m \u001b[38;5;28mprint\u001b[39m(a)\n\u001b[1;32m      3\u001b[0m \u001b[38;5;66;03m# because tuple is immutable\u001b[39;00m\n",
      "\u001b[0;31mAttributeError\u001b[0m: 'tuple' object has no attribute 'append'"
     ]
    }
   ],
   "source": [
    "a.append(20)\n",
    "print(a)\n",
    "# because tuple is immutable"
   ]
  },
  {
   "cell_type": "code",
   "execution_count": null,
   "id": "8628ab85-80e3-488f-b7f8-fc555a105d66",
   "metadata": {},
   "outputs": [],
   "source": []
  }
 ],
 "metadata": {
  "kernelspec": {
   "display_name": "Python 3 (ipykernel)",
   "language": "python",
   "name": "python3"
  },
  "language_info": {
   "codemirror_mode": {
    "name": "ipython",
    "version": 3
   },
   "file_extension": ".py",
   "mimetype": "text/x-python",
   "name": "python",
   "nbconvert_exporter": "python",
   "pygments_lexer": "ipython3",
   "version": "3.10.8"
  }
 },
 "nbformat": 4,
 "nbformat_minor": 5
}
